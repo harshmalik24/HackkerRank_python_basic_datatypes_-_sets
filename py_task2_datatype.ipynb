{
 "cells": [
  {
   "cell_type": "code",
   "execution_count": null,
   "id": "6dca8e6f",
   "metadata": {},
   "outputs": [],
   "source": [
    "#List Comprehensions\n",
    "if __name__ == '__main__':\n",
    "    x = int(input())\n",
    "    y = int(input())\n",
    "    z = int(input())\n",
    "    n = int(input())\n",
    "    print(list([i,j,k] for i in range(x+1) for j in range(y+1) for k in range(z+1) if i+j+k != n))"
   ]
  },
  {
   "cell_type": "code",
   "execution_count": null,
   "id": "cfeb7f77",
   "metadata": {},
   "outputs": [],
   "source": [
    "#Find the Runner-Up Score!\n",
    "if __name__ == '__main__':\n",
    "    n = int(input())\n",
    "    arr = map(int, input().split())\n",
    "    arr = sorted(list(set(arr)))\n",
    "    print(arr[-2])"
   ]
  },
  {
   "cell_type": "code",
   "execution_count": null,
   "id": "4dd92f37",
   "metadata": {},
   "outputs": [],
   "source": [
    "#Nested Lists\n",
    "result =[]\n",
    "scorelist = []\n",
    "\n",
    "if __name__ == '__main__':\n",
    "    for _ in range(int(input())):\n",
    "        name = input()\n",
    "        score = float(input())\n",
    "        result+=[[name,score]]\n",
    "        scorelist+=[score]\n",
    "    b=sorted(list(set(scorelist)))[1] \n",
    "\n",
    "    for a,c in sorted(result):\n",
    "        if c==b:\n",
    "            print(a)"
   ]
  },
  {
   "cell_type": "code",
   "execution_count": null,
   "id": "3e4f9e3c",
   "metadata": {},
   "outputs": [],
   "source": [
    "#Finding the percentage\n",
    "if __name__ == '__main__':\n",
    "    n = int(input())\n",
    "    student_marks = {}\n",
    "    sum = 0\n",
    "    for _ in range(n):\n",
    "        name, *line = input().split()\n",
    "        scores = list(map(float, line))\n",
    "        student_marks[name] = scores\n",
    "    query_name = input()\n",
    "    if query_name in student_marks:\n",
    "        avg = ((float(student_marks[query_name][0]) + float(student_marks[query_name][1]) + float(student_marks[query_name][2])) / 3)\n",
    "        print('%.2f' % avg)"
   ]
  },
  {
   "cell_type": "code",
   "execution_count": null,
   "id": "94549921",
   "metadata": {},
   "outputs": [],
   "source": [
    "#Lists\n",
    "if __name__ == '__main__':\n",
    "    N = int(input())\n",
    "    cmd = []\n",
    "    result = []\n",
    "    for i in range(N):\n",
    "        s = input().split()\n",
    "        cmd.append(s)\n",
    "    for i in range(len(cmd)):\n",
    "        if cmd[i][0] == 'insert':\n",
    "            x = int(cmd[i][1])\n",
    "            y = int(cmd[i][2])\n",
    "            result.insert(x,y)\n",
    "        elif cmd[i][0] == 'print':\n",
    "            print(result)\n",
    "        elif cmd[i][0] == 'remove':\n",
    "            result.remove(int(cmd[i][1]))\n",
    "        elif cmd[i][0] == 'append':\n",
    "            result.append(int(cmd[i][1]))\n",
    "        elif cmd[i][0] == 'sort':\n",
    "            result.sort()\n",
    "        elif cmd[i][0] == 'pop':\n",
    "            result.pop()\n",
    "        elif cmd[i][0] == 'reverse':\n",
    "            result.reverse()"
   ]
  },
  {
   "cell_type": "code",
   "execution_count": null,
   "id": "3a99994e",
   "metadata": {},
   "outputs": [],
   "source": [
    "#Tuples\n",
    "if __name__ == '__main__':\n",
    "    n = int(input())\n",
    "    integer_list = map(int, input().split())\n",
    "    tup = ()\n",
    "    for i in integer_list:\n",
    "        tup+=(i,)\n",
    "    print(hash(tup))"
   ]
  },
  {
   "cell_type": "code",
   "execution_count": null,
   "id": "8106b613",
   "metadata": {},
   "outputs": [],
   "source": [
    "#Introduction to Sets\n",
    "def average(array):\n",
    "    # your code goes here\n",
    "    return sum(set(array))/len(set(array))\n",
    "\n",
    "if __name__ == '__main__':\n",
    "    n = int(input())\n",
    "    arr = list(map(int, input().split()))\n",
    "    result = average(arr)\n",
    "    print(result)"
   ]
  },
  {
   "cell_type": "code",
   "execution_count": null,
   "id": "b7b4aac8",
   "metadata": {},
   "outputs": [],
   "source": [
    "#No Idea!\n",
    "n, m = input().split()\n",
    "lst1 = input().split()\n",
    "a = set(input().split())\n",
    "b = set(input().split())\n",
    "h = 0\n",
    "for num in lst1:\n",
    "    if num in a:\n",
    "        h+=1\n",
    "    if num in b:\n",
    "        h-=1\n",
    "print(h)"
   ]
  },
  {
   "cell_type": "code",
   "execution_count": null,
   "id": "dd2c5636",
   "metadata": {},
   "outputs": [],
   "source": [
    "#Symmetric Difference\n",
    "M = int(input())\n",
    "a = set(map(int, input().split()))\n",
    "N = int(input())\n",
    "b = set(map(int, input().split()))\n",
    "output = list(a.difference(b).union(b.difference(a)))\n",
    "\n",
    "for i in sorted(output):\n",
    "    print(i)"
   ]
  },
  {
   "cell_type": "code",
   "execution_count": null,
   "id": "30abb396",
   "metadata": {},
   "outputs": [],
   "source": [
    "#Set .add()\n",
    "N = int(input())\n",
    "s=set()\n",
    "for i in range(N):\n",
    "    s.add(input())\n",
    "print(len(s))"
   ]
  },
  {
   "cell_type": "code",
   "execution_count": null,
   "id": "0cfe0104",
   "metadata": {},
   "outputs": [],
   "source": [
    "#Set .discard(), .remove() & .pop()\n",
    "n = int(input())\n",
    "s = set(map(int, input().split()))\n",
    "cmd = int(input())\n",
    "for i in range(cmd):\n",
    "    op = input().split()\n",
    "    if op[0] == \"remove\":\n",
    "        s.remove(int(op[1]))\n",
    "    elif op[0] == \"discard\":\n",
    "        s.discard(int(op[1]))\n",
    "    elif op[0] == \"pop\":\n",
    "        s.pop()\n",
    "print(sum(s))"
   ]
  },
  {
   "cell_type": "code",
   "execution_count": null,
   "id": "40e31596",
   "metadata": {},
   "outputs": [],
   "source": [
    "#Set .union() Operation\n",
    "n = int(input())\n",
    "a = list(input().split())\n",
    "m = int(input())\n",
    "b = list(input().split())\n",
    "s1 = set(a)\n",
    "s2 = set(b)\n",
    "print(len(s1.union(s2)))"
   ]
  },
  {
   "cell_type": "code",
   "execution_count": null,
   "id": "fd73d568",
   "metadata": {},
   "outputs": [],
   "source": [
    "#Set .intersection() Operation\n",
    "n = int(input())\n",
    "e = set(map(int, input().split()))\n",
    "b = int(input())\n",
    "f = set(map(int, input().split()))\n",
    "s = e.intersection(f)\n",
    "print(len(list(s)))"
   ]
  },
  {
   "cell_type": "code",
   "execution_count": null,
   "id": "21619fca",
   "metadata": {},
   "outputs": [],
   "source": [
    "#Set .difference() Operation\n",
    "n = int(input())\n",
    "eng = set(map(int, input().split()))\n",
    "m = int(input())\n",
    "french = set(map(int, input().split()))\n",
    "s = eng.difference(french)\n",
    "print(len(list(s)))"
   ]
  },
  {
   "cell_type": "code",
   "execution_count": null,
   "id": "10f7c516",
   "metadata": {},
   "outputs": [],
   "source": [
    "#Set .symmetric_difference() Operation\n",
    "# Enter your code here. Read input from STDIN. Print output to STDOUT\n",
    "n = int(input())\n",
    "eng = set(map(int, input().split()))\n",
    "m = int(input())\n",
    "french = set(map(int, input().split()))\n",
    "s = eng.symmetric_difference(french)\n",
    "print(len(list(s)))"
   ]
  },
  {
   "cell_type": "code",
   "execution_count": null,
   "id": "2874843b",
   "metadata": {},
   "outputs": [],
   "source": [
    "#Set Mutations\n",
    "n = int(input())\n",
    "A = set(map(int, input().split()))\n",
    "N = int(input())\n",
    "for i in range(N):\n",
    "    (p, q)=input().split()\n",
    "    s2=set(map(int, input().split()))\n",
    "    if p=='intersection_update':\n",
    "        A.intersection_update(s2)\n",
    "    elif p=='update':\n",
    "        A.update(s2)\n",
    "    elif p=='symmetric_difference_update':\n",
    "        A.symmetric_difference_update(s2)\n",
    "    elif p=='difference_update':\n",
    "        A.difference_update(s2)\n",
    "print(sum(A))"
   ]
  },
  {
   "cell_type": "code",
   "execution_count": null,
   "id": "9e58f3b7",
   "metadata": {},
   "outputs": [],
   "source": [
    "#The Captain's Room\n",
    "K = int(input())\n",
    "rooms = list(map(int, input().split()))\n",
    "a = set()\n",
    "b = set()\n",
    "for i in rooms:\n",
    "    if i not in a:\n",
    "        a.add(i)\n",
    "        b.add(i)\n",
    "    else:\n",
    "        b.discard(i)\n",
    "print(list(b)[0])"
   ]
  },
  {
   "cell_type": "code",
   "execution_count": null,
   "id": "3cc6dde9",
   "metadata": {},
   "outputs": [],
   "source": [
    "#Check Subset\n",
    "T = int(input())\n",
    "for i in range(T):\n",
    "    n = int(input())\n",
    "    A = set(map(int, input().split()))\n",
    "    m = int(input())\n",
    "    B = set(map(int, input().split()))\n",
    "    print(A.issubset(B))"
   ]
  },
  {
   "cell_type": "code",
   "execution_count": null,
   "id": "31aa5b3f",
   "metadata": {},
   "outputs": [],
   "source": [
    "#Check Strict Superset\n",
    "A = set(map(int, input().split()))\n",
    "n = int(input())\n",
    "for i in range(n):\n",
    "    B = set(map(int, input().split()))\n",
    "    if A.issuperset(B) != True or len(A) == len(B):\n",
    "        print(False)\n",
    "        break\n",
    "else:\n",
    "    print(True)"
   ]
  }
 ],
 "metadata": {
  "kernelspec": {
   "display_name": "Python 3 (ipykernel)",
   "language": "python",
   "name": "python3"
  },
  "language_info": {
   "codemirror_mode": {
    "name": "ipython",
    "version": 3
   },
   "file_extension": ".py",
   "mimetype": "text/x-python",
   "name": "python",
   "nbconvert_exporter": "python",
   "pygments_lexer": "ipython3",
   "version": "3.9.13"
  }
 },
 "nbformat": 4,
 "nbformat_minor": 5
}
